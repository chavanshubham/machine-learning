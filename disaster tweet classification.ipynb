{
 "cells": [
  {
   "cell_type": "code",
   "execution_count": 1,
   "metadata": {},
   "outputs": [],
   "source": [
    "import numpy as np\n",
    "import pandas as pd\n",
    "pd.set_option('display.max_rows', 500)\n",
    "pd.set_option('display.max_columns', 500)\n",
    "pd.set_option('display.width', 1000)\n",
    "\n",
    "import matplotlib.pyplot as plt\n",
    "import seaborn as sns"
   ]
  },
  {
   "cell_type": "code",
   "execution_count": 2,
   "metadata": {},
   "outputs": [
    {
     "name": "stdout",
     "output_type": "stream",
     "text": [
      "Training Set Shape = (7613, 5)\n",
      "Training Set Memory Usage = 0.20 MB\n",
      "Test Set Shape = (3263, 4)\n",
      "Test Set Memory Usage = 0.08 MB\n"
     ]
    }
   ],
   "source": [
    "df_train = pd.read_csv('train.csv', dtype={'id': np.int16, 'target': np.int8})\n",
    "df_test = pd.read_csv('test.csv', dtype={'id': np.int16})\n",
    "\n",
    "print('Training Set Shape = {}'.format(df_train.shape))\n",
    "print('Training Set Memory Usage = {:.2f} MB'.format(df_train.memory_usage().sum() / 1024**2))\n",
    "print('Test Set Shape = {}'.format(df_test.shape))\n",
    "print('Test Set Memory Usage = {:.2f} MB'.format(df_test.memory_usage().sum() / 1024**2))"
   ]
  },
  {
   "cell_type": "code",
   "execution_count": 3,
   "metadata": {},
   "outputs": [
    {
     "data": {
      "text/plain": [
       "(7613, 5)"
      ]
     },
     "execution_count": 3,
     "metadata": {},
     "output_type": "execute_result"
    }
   ],
   "source": [
    "df_train.shape"
   ]
  },
  {
   "cell_type": "code",
   "execution_count": 4,
   "metadata": {},
   "outputs": [
    {
     "data": {
      "text/plain": [
       "<bound method DataFrame.info of          id keyword location                                               text  target\n",
       "0         1     NaN      NaN  Our Deeds are the Reason of this #earthquake M...       1\n",
       "1         4     NaN      NaN             Forest fire near La Ronge Sask. Canada       1\n",
       "2         5     NaN      NaN  All residents asked to 'shelter in place' are ...       1\n",
       "3         6     NaN      NaN  13,000 people receive #wildfires evacuation or...       1\n",
       "4         7     NaN      NaN  Just got sent this photo from Ruby #Alaska as ...       1\n",
       "...     ...     ...      ...                                                ...     ...\n",
       "7608  10869     NaN      NaN  Two giant cranes holding a bridge collapse int...       1\n",
       "7609  10870     NaN      NaN  @aria_ahrary @TheTawniest The out of control w...       1\n",
       "7610  10871     NaN      NaN  M1.94 [01:04 UTC]?5km S of Volcano Hawaii. htt...       1\n",
       "7611  10872     NaN      NaN  Police investigating after an e-bike collided ...       1\n",
       "7612  10873     NaN      NaN  The Latest: More Homes Razed by Northern Calif...       1\n",
       "\n",
       "[7613 rows x 5 columns]>"
      ]
     },
     "execution_count": 4,
     "metadata": {},
     "output_type": "execute_result"
    }
   ],
   "source": [
    "df_train.info"
   ]
  },
  {
   "cell_type": "code",
   "execution_count": 5,
   "metadata": {},
   "outputs": [
    {
     "data": {
      "text/html": [
       "<div>\n",
       "<style scoped>\n",
       "    .dataframe tbody tr th:only-of-type {\n",
       "        vertical-align: middle;\n",
       "    }\n",
       "\n",
       "    .dataframe tbody tr th {\n",
       "        vertical-align: top;\n",
       "    }\n",
       "\n",
       "    .dataframe thead th {\n",
       "        text-align: right;\n",
       "    }\n",
       "</style>\n",
       "<table border=\"1\" class=\"dataframe\">\n",
       "  <thead>\n",
       "    <tr style=\"text-align: right;\">\n",
       "      <th></th>\n",
       "      <th>id</th>\n",
       "      <th>keyword</th>\n",
       "      <th>location</th>\n",
       "      <th>text</th>\n",
       "      <th>target</th>\n",
       "    </tr>\n",
       "  </thead>\n",
       "  <tbody>\n",
       "    <tr>\n",
       "      <th>101</th>\n",
       "      <td>145</td>\n",
       "      <td>accident</td>\n",
       "      <td>Nairobi, Kenya</td>\n",
       "      <td>I still have not heard Church Leaders of Kenya...</td>\n",
       "      <td>0</td>\n",
       "    </tr>\n",
       "    <tr>\n",
       "      <th>3619</th>\n",
       "      <td>5166</td>\n",
       "      <td>fatalities</td>\n",
       "      <td>NaN</td>\n",
       "      <td>Las Vegas in top 5 cities for red-light runnin...</td>\n",
       "      <td>0</td>\n",
       "    </tr>\n",
       "    <tr>\n",
       "      <th>2220</th>\n",
       "      <td>3177</td>\n",
       "      <td>deluge</td>\n",
       "      <td>Enniscrone &amp; Aughris, Sligo</td>\n",
       "      <td>Back on the beach after the deluge.  Surf camp...</td>\n",
       "      <td>1</td>\n",
       "    </tr>\n",
       "    <tr>\n",
       "      <th>129</th>\n",
       "      <td>185</td>\n",
       "      <td>aftershock</td>\n",
       "      <td>Hermosa Beach, CA</td>\n",
       "      <td>Tried orange aftershock today. My life will ne...</td>\n",
       "      <td>0</td>\n",
       "    </tr>\n",
       "    <tr>\n",
       "      <th>5064</th>\n",
       "      <td>7218</td>\n",
       "      <td>natural%20disaster</td>\n",
       "      <td>sÌ£o luis</td>\n",
       "      <td>And you're loving me like water slipping throu...</td>\n",
       "      <td>0</td>\n",
       "    </tr>\n",
       "  </tbody>\n",
       "</table>\n",
       "</div>"
      ],
      "text/plain": [
       "        id             keyword                      location                                               text  target\n",
       "101    145            accident                Nairobi, Kenya  I still have not heard Church Leaders of Kenya...       0\n",
       "3619  5166          fatalities                           NaN  Las Vegas in top 5 cities for red-light runnin...       0\n",
       "2220  3177              deluge  Enniscrone & Aughris, Sligo   Back on the beach after the deluge.  Surf camp...       1\n",
       "129    185          aftershock             Hermosa Beach, CA  Tried orange aftershock today. My life will ne...       0\n",
       "5064  7218  natural%20disaster                     sÌ£o luis  And you're loving me like water slipping throu...       0"
      ]
     },
     "execution_count": 5,
     "metadata": {},
     "output_type": "execute_result"
    }
   ],
   "source": [
    "df_train.sample(5)"
   ]
  },
  {
   "cell_type": "code",
   "execution_count": 6,
   "metadata": {},
   "outputs": [
    {
     "data": {
      "text/plain": [
       "0    Our Deeds are the Reason of this #earthquake M...\n",
       "1               Forest fire near La Ronge Sask. Canada\n",
       "2    All residents asked to 'shelter in place' are ...\n",
       "3    13,000 people receive #wildfires evacuation or...\n",
       "4    Just got sent this photo from Ruby #Alaska as ...\n",
       "Name: text, dtype: object"
      ]
     },
     "execution_count": 6,
     "metadata": {},
     "output_type": "execute_result"
    }
   ],
   "source": [
    "df_train['text'][:5]"
   ]
  },
  {
   "cell_type": "code",
   "execution_count": 7,
   "metadata": {},
   "outputs": [
    {
     "data": {
      "text/plain": [
       "966     New Ladies Shoulder Tote Handbag Faux Leather ...\n",
       "1555    @laevantine Fortunately I reworked the plumbin...\n",
       "1087    The bomb was so appropriate ?? seen as my fami...\n",
       "6327    SpaceX Founder Musk: Structural Failure Took D...\n",
       "4548                         so paulista injured wilshere\n",
       "Name: text, dtype: object"
      ]
     },
     "execution_count": 7,
     "metadata": {},
     "output_type": "execute_result"
    }
   ],
   "source": [
    "df_train['text'].sample(5)"
   ]
  },
  {
   "cell_type": "code",
   "execution_count": 8,
   "metadata": {},
   "outputs": [
    {
     "data": {
      "text/plain": [
       "id             0\n",
       "keyword       61\n",
       "location    2533\n",
       "text           0\n",
       "target         0\n",
       "dtype: int64"
      ]
     },
     "execution_count": 8,
     "metadata": {},
     "output_type": "execute_result"
    }
   ],
   "source": [
    "df_train.isnull().sum()"
   ]
  },
  {
   "cell_type": "code",
   "execution_count": 18,
   "metadata": {},
   "outputs": [],
   "source": [
    "df_train[\"keyword\"].replace({\"%20\": \" \"}, inplace=True)"
   ]
  },
  {
   "cell_type": "code",
   "execution_count": 19,
   "metadata": {},
   "outputs": [
    {
     "data": {
      "text/plain": [
       "no_keyword               61\n",
       "fatalities               45\n",
       "deluge                   42\n",
       "armageddon               42\n",
       "damage                   41\n",
       "body%20bags              41\n",
       "harm                     41\n",
       "sinking                  41\n",
       "collided                 40\n",
       "evacuate                 40\n",
       "siren                    40\n",
       "outbreak                 40\n",
       "twister                  40\n",
       "fear                     40\n",
       "windstorm                40\n",
       "weapon                   39\n",
       "famine                   39\n",
       "hellfire                 39\n",
       "sunk                     39\n",
       "whirlwind                39\n",
       "earthquake               39\n",
       "explosion                39\n",
       "weapons                  39\n",
       "wreckage                 39\n",
       "sinkhole                 39\n",
       "collision                39\n",
       "wrecked                  39\n",
       "derailment               39\n",
       "flames                   39\n",
       "deaths                   38\n",
       "flooding                 38\n",
       "explode                  38\n",
       "thunder                  38\n",
       "upheaval                 38\n",
       "injury                   38\n",
       "drowned                  38\n",
       "fatal                    38\n",
       "blaze                    38\n",
       "bombed                   38\n",
       "typhoon                  38\n",
       "oil%20spill              38\n",
       "hurricane                38\n",
       "ambulance                38\n",
       "fire                     38\n",
       "derailed                 38\n",
       "hostages                 37\n",
       "ruin                     37\n",
       "pandemonium              37\n",
       "destroy                  37\n",
       "burning%20buildings      37\n",
       "wreck                    37\n",
       "bioterror                37\n",
       "panic                    37\n",
       "curfew                   37\n",
       "fatality                 37\n",
       "sandstorm                37\n",
       "wounded                  37\n",
       "emergency                37\n",
       "mudslide                 37\n",
       "blizzard                 37\n",
       "crush                    37\n",
       "quarantined              37\n",
       "police                   37\n",
       "debris                   37\n",
       "massacre                 36\n",
       "tragedy                  36\n",
       "displaced                36\n",
       "devastation              36\n",
       "screaming                36\n",
       "dust%20storm             36\n",
       "floods                   36\n",
       "cliff%20fall             36\n",
       "danger                   36\n",
       "evacuated                36\n",
       "evacuation               36\n",
       "detonate                 36\n",
       "refugees                 36\n",
       "ablaze                   36\n",
       "engulfed                 36\n",
       "death                    36\n",
       "attack                   36\n",
       "catastrophe              36\n",
       "desolation               36\n",
       "nuclear%20reactor        36\n",
       "rescued                  35\n",
       "inundated                35\n",
       "demolition               35\n",
       "casualties               35\n",
       "injured                  35\n",
       "hail                     35\n",
       "buildings%20burning      35\n",
       "emergency%20plan         35\n",
       "derail                   35\n",
       "bloody                   35\n",
       "suicide%20bomb           35\n",
       "attacked                 35\n",
       "hazardous                35\n",
       "disaster                 35\n",
       "razed                    35\n",
       "rioting                  35\n",
       "bleeding                 35\n",
       "bridge%20collapse        35\n",
       "tornado                  35\n",
       "flood                    35\n",
       "collapsed                35\n",
       "structural%20failure     35\n",
       "airplane%20accident      35\n",
       "rescuers                 35\n",
       "traumatised              35\n",
       "drought                  35\n",
       "blood                    35\n",
       "accident                 35\n",
       "screams                  35\n",
       "hijacker                 35\n",
       "storm                    35\n",
       "blazing                  34\n",
       "crashed                  34\n",
       "screamed                 34\n",
       "riot                     34\n",
       "quarantine               34\n",
       "terrorism                34\n",
       "natural%20disaster       34\n",
       "collapse                 34\n",
       "aftershock               34\n",
       "tsunami                  34\n",
       "nuclear%20disaster       34\n",
       "destruction              34\n",
       "smoke                    34\n",
       "flattened                34\n",
       "loud%20bang              34\n",
       "collide                  34\n",
       "rainstorm                34\n",
       "electrocuted             34\n",
       "army                     34\n",
       "heat%20wave              34\n",
       "casualty                 34\n",
       "demolish                 34\n",
       "burning                  34\n",
       "arsonist                 34\n",
       "hazard                   34\n",
       "bomb                     34\n",
       "military                 34\n",
       "annihilated              34\n",
       "drowning                 34\n",
       "lava                     34\n",
       "crash                    33\n",
       "body%20bagging           33\n",
       "injuries                 33\n",
       "fire%20truck             33\n",
       "panicking                33\n",
       "suicide%20bombing        33\n",
       "survived                 33\n",
       "violent%20storm          33\n",
       "meltdown                 33\n",
       "blown%20up               33\n",
       "chemical%20emergency     33\n",
       "thunderstorm             33\n",
       "stretcher                33\n",
       "burned                   33\n",
       "lightning                33\n",
       "buildings%20on%20fire    33\n",
       "wounds                   33\n",
       "body%20bag               33\n",
       "hijack                   33\n",
       "exploded                 33\n",
       "blew%20up                33\n",
       "emergency%20services     33\n",
       "mass%20murder            33\n",
       "wildfire                 33\n",
       "trouble                  33\n",
       "landslide                33\n",
       "electrocute              32\n",
       "eyewitness               32\n",
       "hijacking                32\n",
       "survive                  32\n",
       "blight                   32\n",
       "drown                    32\n",
       "arson                    32\n",
       "mass%20murderer          32\n",
       "forest%20fires           32\n",
       "destroyed                32\n",
       "apocalypse               32\n",
       "hailstorm                32\n",
       "detonation               32\n",
       "cyclone                  32\n",
       "trapped                  32\n",
       "trauma                   31\n",
       "suicide%20bomber         31\n",
       "hostage                  31\n",
       "terrorist                31\n",
       "wild%20fires             31\n",
       "devastated               31\n",
       "obliterated              31\n",
       "obliterate               31\n",
       "crushed                  31\n",
       "mayhem                   30\n",
       "dead                     30\n",
       "bioterrorism             30\n",
       "survivors                30\n",
       "catastrophic             30\n",
       "avalanche                30\n",
       "seismic                  29\n",
       "obliteration             29\n",
       "first%20responders       29\n",
       "annihilation             29\n",
       "bombing                  29\n",
       "snowstorm                29\n",
       "sirens                   29\n",
       "desolate                 29\n",
       "rubble                   28\n",
       "demolished               28\n",
       "deluged                  27\n",
       "volcano                  27\n",
       "battle                   26\n",
       "bush%20fires             25\n",
       "war%20zone               24\n",
       "rescue                   22\n",
       "forest%20fire            19\n",
       "epicentre                12\n",
       "threat                   11\n",
       "inundation               10\n",
       "radiation%20emergency     9\n",
       "Name: keyword, dtype: int64"
      ]
     },
     "execution_count": 19,
     "metadata": {},
     "output_type": "execute_result"
    }
   ],
   "source": [
    "df_train['keyword'].value_counts()"
   ]
  },
  {
   "cell_type": "code",
   "execution_count": 11,
   "metadata": {},
   "outputs": [
    {
     "data": {
      "image/png": "[encoded data removed]",
      "text/plain": [
       "<Figure size 1700x400 with 2 Axes>"
      ]
     },
     "metadata": {
      "needs_background": "light"
     },
     "output_type": "display_data"
    }
   ],
   "source": [
    "missing_cols = ['keyword', 'location']\n",
    "\n",
    "fig, axes = plt.subplots(ncols=2, figsize=(17, 4), dpi=100)\n",
    "\n",
    "sns.barplot(x=df_train[missing_cols].isnull().sum().index, y=df_train[missing_cols].isnull().sum().values, ax=axes[0])\n",
    "sns.barplot(x=df_test[missing_cols].isnull().sum().index, y=df_test[missing_cols].isnull().sum().values, ax=axes[1])\n",
    "\n",
    "axes[0].set_ylabel('Missing Value Count', size=15, labelpad=20)\n",
    "axes[0].tick_params(axis='x', labelsize=15)\n",
    "axes[0].tick_params(axis='y', labelsize=15)\n",
    "axes[1].tick_params(axis='x', labelsize=15)\n",
    "axes[1].tick_params(axis='y', labelsize=15)\n",
    "\n",
    "axes[0].set_title('Training Set', fontsize=13)\n",
    "axes[1].set_title('Test Set', fontsize=13)\n",
    "\n",
    "plt.show()\n",
    "\n",
    "for df in [df_train, df_test]:\n",
    "    for col in ['keyword', 'location']:\n",
    "        df[col] = df[col].fillna(f'no_{col}')"
   ]
  },
  {
   "cell_type": "code",
   "execution_count": 14,
   "metadata": {},
   "outputs": [
    {
     "data": {
      "text/plain": [
       "Text(0, 0.5, 'samples')"
      ]
     },
     "execution_count": 14,
     "metadata": {},
     "output_type": "execute_result"
    },
    {
     "data": {
      "image/png": "[encoded data removed]",
      "text/plain": [
       "<Figure size 432x288 with 1 Axes>"
      ]
     },
     "metadata": {
      "needs_background": "light"
     },
     "output_type": "display_data"
    }
   ],
   "source": [
    "x = df_train.target.value_counts()\n",
    "sns.barplot(x = x.index, y = x)\n",
    "plt.gca().set_ylabel('samples')"
   ]
  },
  {
   "cell_type": "code",
   "execution_count": 13,
   "metadata": {},
   "outputs": [
    {
     "name": "stdout",
     "output_type": "stream",
     "text": [
      "Number of unique values in keyword = 222 (Training) - 222 (Test)\n",
      "Number of unique values in location = 3342 (Training) - 1603 (Test)\n"
     ]
    }
   ],
   "source": [
    "print(f'Number of unique values in keyword = {df_train[\"keyword\"].nunique()} (Training) - {df_test[\"keyword\"].nunique()} (Test)')\n",
    "print(f'Number of unique values in location = {df_train[\"location\"].nunique()} (Training) - {df_test[\"location\"].nunique()} (Test)')"
   ]
  },
  {
   "cell_type": "code",
   "execution_count": null,
   "metadata": {},
   "outputs": [],
   "source": []
  }
 ],
 "metadata": {
  "kernelspec": {
   "display_name": "Python 3",
   "language": "python",
   "name": "python3"
  },
  "language_info": {
   "codemirror_mode": {
    "name": "ipython",
    "version": 3
   },
   "file_extension": ".py",
   "mimetype": "text/x-python",
   "name": "python",
   "nbconvert_exporter": "python",
   "pygments_lexer": "ipython3",
   "version": "3.8.6"
  }
 },
 "nbformat": 4,
 "nbformat_minor": 4
}
