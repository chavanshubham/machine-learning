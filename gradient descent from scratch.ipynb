{
 "cells": [
  {
   "cell_type": "code",
   "execution_count": 4,
   "metadata": {},
   "outputs": [],
   "source": [
    "from sympy import *\n",
    "import numpy as np\n",
    "from matplotlib import pyplot as plt\n",
    "import time\n",
    "\n",
    "%matplotlib inline"
   ]
  },
  {
   "cell_type": "code",
   "execution_count": 9,
   "metadata": {},
   "outputs": [],
   "source": [
    "def compute(function, learning_rate = 0.1, maxIterations = 10000, threshold = 1/1000000, \n",
    "            cost_delta_threshold = 1/1000000, gradient_threshold = 1/1000000, cost_threshold = None):\n",
    "    t0 = time.perf_counter()\n",
    "    x = Symbol('x')\n",
    "    y = function\n",
    "    # First derivative with respect to x\n",
    "    yprime = y.diff(x)\n",
    "\n",
    "    alpha = learning_rate\n",
    "    plot = True\n",
    "    iterationsMax = maxIterations\n",
    "\n",
    "    theta = np.random.rand() * 100\n",
    "    theta2 = 0\n",
    "    check = 0\n",
    "    iterations = 0\n",
    "    #threshold = 1/1000000\n",
    "    maxDivergence = 50\n",
    "    yval = y.subs(x, theta).evalf() # value of cost function\n",
    "    #cost_delta_threshold = 1/1000000\n",
    "    #gradient_threshold = 1/1000000\n",
    "\n",
    "    while True:\n",
    "        theta2 = theta - alpha*N(yprime.subs(x,theta)).evalf()\n",
    "        yvalprime = y.subs(x, theta2).evalf()\n",
    "        gradient = yprime.subs(x, theta).evalf()\n",
    "        iterations += 1\n",
    "\n",
    "        if iterations > iterationsMax: # iteration check\n",
    "            print(\"Too much iterations\")\n",
    "            break\n",
    "\n",
    "        if theta < theta2: # diversion check\n",
    "            print(\"The value of theta is diverging\")\n",
    "            check += 1\n",
    "            if check > maxDivergence:\n",
    "                print(\"Too much iterations (%s), the value of theta is diverging\"%maxDivergence)\n",
    "                print(\"Please choose a smaller alpha and, or check that the function is indeed convex\")\n",
    "                plot = False\n",
    "                break\n",
    "\n",
    "        if abs(theta - theta2) < threshold: # theta drop threshold check\n",
    "            print(\"Theta threshold reached. Theta: {}\".format(theta2))\n",
    "            break\n",
    "\n",
    "        if yvalprime == 0: # cost function == 0 check\n",
    "            print(\"Cost function = 0.\")\n",
    "            break\n",
    "            \n",
    "        if abs(yval - yvalprime) < cost_delta_threshold: # cost function delta check\n",
    "            print(\"Cost function decrease theshold reached.\")\n",
    "            break\n",
    "        \n",
    "#         if gradient < gradient_threshold: # gradient threshold check\n",
    "#             print(\"Gradient decrease threshold reached.\")\n",
    "#             break\n",
    "        \n",
    "        if cost_threshold != None and yvalprime < cost_threshold: # Cost function threshold.\n",
    "            print(\"Cost function is less than the desired value.\")\n",
    "            break\n",
    "        \n",
    "        yval = yvalprime\n",
    "        theta = theta2\n",
    "\n",
    "    if plot:\n",
    "        print(\"Number of iterations:\",iterations,\"value of theta:\",theta2,sep=\" \")\n",
    "        plt.plot(theta,N(y.subs(x,theta)).evalf(),marker='o',color='r')\n",
    "        space = np.linspace(-5,5,100)\n",
    "        data = np.array([N(y.subs(x,value)) for value in space])\n",
    "        plt.plot(space, data)\n",
    "        plt.show()\n",
    "        print(\"Time elapsed: {} seconds\".format(time.perf_counter() - t0))"
   ]
  },
  {
   "cell_type": "code",
   "execution_count": 10,
   "metadata": {},
   "outputs": [],
   "source": [
    "x = Symbol('x')\n",
    "function = (x + 2)**2 -5\n",
    "function1 = (x)**4 - 6*(x)**2 + 4*x + 12\n",
    "function2 = (x - 2)**2 + 5\n",
    "function3 = (5 / x**2)"
   ]
  },
  {
   "cell_type": "code",
   "execution_count": 11,
   "metadata": {},
   "outputs": [
    {
     "name": "stdout",
     "output_type": "stream",
     "text": [
      "Cost function decrease theshold reached.\n",
      "Number of iterations: 46 value of theta: -1.99869518973169\n"
     ]
    },
    {
     "data": {
      "image/png": "[encoded data removed]",
      "text/plain": [
       "<Figure size 432x288 with 1 Axes>"
      ]
     },
     "metadata": {
      "needs_background": "light"
     },
     "output_type": "display_data"
    },
    {
     "name": "stdout",
     "output_type": "stream",
     "text": [
      "Time elapsed: 0.34702859199978775 seconds\n"
     ]
    }
   ],
   "source": [
    "compute(function)"
   ]
  },
  {
   "cell_type": "code",
   "execution_count": 12,
   "metadata": {},
   "outputs": [
    {
     "name": "stdout",
     "output_type": "stream",
     "text": [
      "The value of theta is diverging\n",
      "The value of theta is diverging\n",
      "The value of theta is diverging\n",
      "The value of theta is diverging\n",
      "The value of theta is diverging\n",
      "The value of theta is diverging\n",
      "The value of theta is diverging\n",
      "The value of theta is diverging\n",
      "The value of theta is diverging\n",
      "The value of theta is diverging\n",
      "The value of theta is diverging\n",
      "The value of theta is diverging\n",
      "The value of theta is diverging\n",
      "The value of theta is diverging\n",
      "The value of theta is diverging\n",
      "The value of theta is diverging\n",
      "The value of theta is diverging\n",
      "The value of theta is diverging\n",
      "The value of theta is diverging\n",
      "The value of theta is diverging\n",
      "The value of theta is diverging\n",
      "The value of theta is diverging\n",
      "The value of theta is diverging\n",
      "The value of theta is diverging\n",
      "The value of theta is diverging\n",
      "The value of theta is diverging\n",
      "The value of theta is diverging\n",
      "The value of theta is diverging\n",
      "The value of theta is diverging\n",
      "The value of theta is diverging\n",
      "The value of theta is diverging\n",
      "The value of theta is diverging\n",
      "The value of theta is diverging\n",
      "The value of theta is diverging\n",
      "The value of theta is diverging\n",
      "The value of theta is diverging\n",
      "The value of theta is diverging\n",
      "The value of theta is diverging\n",
      "The value of theta is diverging\n",
      "The value of theta is diverging\n",
      "The value of theta is diverging\n",
      "The value of theta is diverging\n",
      "The value of theta is diverging\n",
      "The value of theta is diverging\n",
      "The value of theta is diverging\n",
      "The value of theta is diverging\n",
      "The value of theta is diverging\n",
      "The value of theta is diverging\n",
      "The value of theta is diverging\n",
      "The value of theta is diverging\n",
      "The value of theta is diverging\n",
      "Too much iterations (50), the value of theta is diverging\n",
      "Please choose a smaller alpha and, or check that the function is indeed convex\n"
     ]
    }
   ],
   "source": [
    "compute(function1)"
   ]
  },
  {
   "cell_type": "code",
   "execution_count": 16,
   "metadata": {},
   "outputs": [
    {
     "name": "stdout",
     "output_type": "stream",
     "text": [
      "Cost function decrease theshold reached.\n",
      "Number of iterations: 2902 value of theta: 1.53821833097518\n"
     ]
    },
    {
     "data": {
      "image/png": "[encoded data removed]",
      "text/plain": [
       "<Figure size 432x288 with 1 Axes>"
      ]
     },
     "metadata": {
      "needs_background": "light"
     },
     "output_type": "display_data"
    },
    {
     "name": "stdout",
     "output_type": "stream",
     "text": [
      "Time elapsed: 8.792936290999933 seconds\n"
     ]
    }
   ],
   "source": [
    "compute(function1, learning_rate = 0.0001)"
   ]
  },
  {
   "cell_type": "code",
   "execution_count": 14,
   "metadata": {},
   "outputs": [
    {
     "name": "stdout",
     "output_type": "stream",
     "text": [
      "Cost function decrease theshold reached.\n",
      "Number of iterations: 435 value of theta: 2.00487959868768\n"
     ]
    },
    {
     "data": {
      "image/png": "[encoded data removed]",
      "text/plain": [
       "<Figure size 432x288 with 1 Axes>"
      ]
     },
     "metadata": {
      "needs_background": "light"
     },
     "output_type": "display_data"
    },
    {
     "name": "stdout",
     "output_type": "stream",
     "text": [
      "Time elapsed: 1.0712549630002286 seconds\n"
     ]
    }
   ],
   "source": [
    "compute(function2, learning_rate = 0.01)"
   ]
  },
  {
   "cell_type": "code",
   "execution_count": 15,
   "metadata": {},
   "outputs": [
    {
     "name": "stdout",
     "output_type": "stream",
     "text": [
      "The value of theta is diverging\n",
      "Theta threshold reached. Theta: 41.3352306576584\n",
      "Number of iterations: 1 value of theta: 41.3352306576584\n"
     ]
    },
    {
     "data": {
      "image/png": "[encoded data removed]",
      "text/plain": [
       "<Figure size 432x288 with 1 Axes>"
      ]
     },
     "metadata": {
      "needs_background": "light"
     },
     "output_type": "display_data"
    },
    {
     "name": "stdout",
     "output_type": "stream",
     "text": [
      "Time elapsed: 0.33865430800005925 seconds\n"
     ]
    }
   ],
   "source": [
    "compute(function3, learning_rate = 0.001)"
   ]
  },
  {
   "cell_type": "code",
   "execution_count": null,
   "metadata": {},
   "outputs": [],
   "source": []
  }
 ],
 "metadata": {
  "kernelspec": {
   "display_name": "Python 3",
   "language": "python",
   "name": "python3"
  },
  "language_info": {
   "codemirror_mode": {
    "name": "ipython",
    "version": 3
   },
   "file_extension": ".py",
   "mimetype": "text/x-python",
   "name": "python",
   "nbconvert_exporter": "python",
   "pygments_lexer": "ipython3",
   "version": "3.8.6"
  }
 },
 "nbformat": 4,
 "nbformat_minor": 4
}
